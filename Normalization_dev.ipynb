{
 "cells": [
  {
   "cell_type": "code",
   "execution_count": 1,
   "metadata": {},
   "outputs": [],
   "source": [
    "import numpy as np\n",
    "import os\n",
    "import cv2\n",
    "import matplotlib.pyplot as plt"
   ]
  },
  {
   "cell_type": "code",
   "execution_count": 65,
   "metadata": {},
   "outputs": [],
   "source": [
    "\n",
    "# this is a function which calculates Euclidian distance between two points\n",
    "def dist(x1, y1, x2, y2):\n",
    "    dist = np.sqrt((x1 - x2) ** 2 + (y1 - y2) ** 2)\n",
    "    return dist\n",
    "\n",
    "# find coordinates in an original coordinate system which correspond to those in a new coordinate systems (Backward mapping)\n",
    "def getOriginCoord(X, Y, incir, outcir):\n",
    "    '''\n",
    "    X,Y: coordinate in a new coordinate system\n",
    "    incir: tuple storing 3 values for inner boundary; x coordinate of center, y coordinate of center, and radius\n",
    "    outcir: tuple storing 3 values for outer boundary; x coordinate of center, y coordinate of center, and radius\n",
    "    M,N: the width and height of unwraped image, according to Lima's thesis \n",
    "    '''\n",
    "    M = 64\n",
    "    N = 512\n",
    "    xi, yi, ri = incir # (xi, yi) is the center of inner circle; r is radius\n",
    "    xo, yo, ro = outcir # (xo, yo) is the center of outer circle; r is radius\n",
    "    \n",
    "    # these are due to the equations in the Lima's thesis\n",
    "    # in a clockwise order\n",
    "    th = 2 * np.pi * X / N\n",
    "    x = (xi + ri * np.cos(th)) + (ro * np.cos(th) - ri * np.cos(th)) * Y / M\n",
    "    y = (yi + ri * np.sin(th)) + (ro * np.sin(th) - ri * np.sin(th)) * Y / M\n",
    "\n",
    "    # round x and y so that they are regarded as coordinates in the original image\n",
    "    x = np.uint16(np.round(x))\n",
    "    y = np.uint16(np.round(y))\n",
    "\n",
    "    return (x, y)\n",
    "\n",
    "# return unwrapped image\n",
    "def getUnwrap(image, incir, outcir):\n",
    "    '''\n",
    "    image: original image\n",
    "    incir, outcir: these inputs are the same with getOriginalCoord()\n",
    "    '''\n",
    "\n",
    "    M = 64\n",
    "    N = 512\n",
    "\n",
    "    unwrapImage = np.zeros((M, N))\n",
    "\n",
    "    # project coordinates one by one\n",
    "    for Y in range(M):\n",
    "        for X in range(N):\n",
    "            x, y = getOriginCoord(X, Y, incir, outcir)\n",
    "\n",
    "            newImage[Y][X] = image[y][x]\n",
    "    \n",
    "    return unwrapImage\n",
    "\n",
    "\n"
   ]
  },
  {
   "cell_type": "code",
   "execution_count": 69,
   "metadata": {},
   "outputs": [
    {
     "data": {
      "text/plain": [
       "<matplotlib.image.AxesImage at 0x7fb0930810a0>"
      ]
     },
     "execution_count": 69,
     "metadata": {},
     "output_type": "execute_result"
    },
    {
     "data": {
      "image/png": "[encoded data removed]",
      "text/plain": [
       "<Figure size 432x288 with 1 Axes>"
      ]
     },
     "metadata": {
      "needs_background": "light"
     },
     "output_type": "display_data"
    }
   ],
   "source": [
    "path = 'CASIA Iris Image Database (version 1.0)/001/1'\n",
    "image_file = os.path.join(path, '001_1_2.bmp')\n",
    "image = cv2.imread(image_file)\n",
    "img_rgb = cv2.cvtColor(image, cv2.COLOR_BGR2RGB)\n",
    "img_gray = cv2.cvtColor(image, cv2.COLOR_BGR2GRAY)\n",
    "\n",
    "innercircle = (100, 100, 40)\n",
    "outercircle = (100, 100, 80)\n",
    "\n",
    "#x, y = getOriginCoord(1, 1, innercircle, outercircle)\n",
    "#type(x)\n",
    "newImg = getUnwrap(img_gray, innercircle, outercircle)\n",
    "newImg\n",
    "plt.imshow(newImg, cmap='gray')"
   ]
  },
  {
   "cell_type": "code",
   "execution_count": null,
   "metadata": {},
   "outputs": [],
   "source": []
  }
 ],
 "metadata": {
  "kernelspec": {
   "display_name": "Python 3.8.8 ('base')",
   "language": "python",
   "name": "python3"
  },
  "language_info": {
   "codemirror_mode": {
    "name": "ipython",
    "version": 3
   },
   "file_extension": ".py",
   "mimetype": "text/x-python",
   "name": "python",
   "nbconvert_exporter": "python",
   "pygments_lexer": "ipython3",
   "version": "3.8.8"
  },
  "orig_nbformat": 4,
  "vscode": {
   "interpreter": {
    "hash": "2ce22ba0781ab55b36728216f86c609f0441bef53d678741fe689ffb1c251042"
   }
  }
 },
 "nbformat": 4,
 "nbformat_minor": 2
}
