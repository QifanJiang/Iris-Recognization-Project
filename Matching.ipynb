{
 "cells": [
  {
   "cell_type": "code",
   "execution_count": 10,
   "metadata": {},
   "outputs": [],
   "source": [
    "import numpy as np\n",
    "import pandas as pd\n",
    "import cv2\n",
    "from sklearn.discriminant_analysis import LinearDiscriminantAnalysis\n",
    "import importlib\n",
    "\n",
    "import IrisLocalization\n",
    "import IrisNormalization\n",
    "import IrisEnhancement \n",
    "import IrisFeatureExtraction\n",
    "\n",
    "importlib.reload(IrisLocalization)\n",
    "importlib.reload(IrisNormalization)\n",
    "importlib.reload(IrisEnhancement)\n",
    "importlib.reload(IrisFeatureExtraction)\n"
   ]
  },
  {
   "cell_type": "code",
   "execution_count": 67,
   "metadata": {},
   "outputs": [],
   "source": [
    "# Search closest iris among train dataset\n",
    "# return two list, one of which stores closest iris and another stores their similarity measures\n",
    "def IrisMatching(train, test):\n",
    "    '''\n",
    "    train: a list of feature vectors for train data\n",
    "    test: a list of feature vectors for test data  \n",
    "    '''\n",
    "    train_X = train\n",
    "    train_y = np.repeat(range(1,109),3)\n",
    "    test_X = test\n",
    "    test_y = np.repeat(range(1,109),4)\n",
    "\n",
    "    # Implement LDA to improve omputational efficiency and classification accuracy \n",
    "    clf = LinearDiscriminantAnalysis()\n",
    "    clf.fit(train_X, train_y)\n",
    "\n",
    "    f = clf.transform(train_X)\n",
    "    f_test = clf.transform(test_X)\n",
    "\n",
    "    df_min = pd.DataFrame(columns=['L1', 'L2', 'Cosine'])\n",
    "    df_minmeasure = pd.DataFrame(columns=['L1', 'L2', 'Cosine'])\n",
    "\n",
    "\n",
    "    # Calculate Similarity Measures \n",
    "    for i in range(len(f_test)):\n",
    "\n",
    "        mind1 = 1000\n",
    "        mind2 = 1000\n",
    "        mind3 = 1000\n",
    "\n",
    "        for j in range(len(f)):\n",
    "            d1 = np.sum(abs(f_test[i:i+1] - f[j:j+1])) \n",
    "            d2 = np.sum((f_test[i:i+1] - f[j:j+1])**2)\n",
    "            d3 = 1 - np.sum(f_test[i:i+1] * f[j:j+1]) / np.sqrt(np.sum(f_test[i:i+1]**2) * np.sum(f[j:j+1]**2))\n",
    "\n",
    "            # Three Similarity Measures\n",
    "            if mind1 > d1:\n",
    "                mind1 = d1\n",
    "                closest_d1 = j + 1\n",
    "            if mind2 > d2:\n",
    "                mind2 = d2\n",
    "                closest_d2 = j + 1\n",
    "            if mind3 > d3:\n",
    "                mind3 = d3\n",
    "                closest_d3 = j + 1\n",
    "            \n",
    "        # Store outputs\n",
    "        df_min.loc[i+1] = [closest_d1, closest_d2, closest_d3]\n",
    "        df_minmeasure.loc[i+1] = [mind1, mind2, mind3]\n",
    "    \n",
    "    return df_min, df_minmeasure\n",
    "\n",
    "        \n"
   ]
  },
  {
   "cell_type": "code",
   "execution_count": 65,
   "metadata": {},
   "outputs": [
    {
     "ename": "KeyboardInterrupt",
     "evalue": "",
     "output_type": "error",
     "traceback": [
      "\u001b[0;31m---------------------------------------------------------------------------\u001b[0m",
      "\u001b[0;31mKeyboardInterrupt\u001b[0m                         Traceback (most recent call last)",
      "\u001b[0;32m<ipython-input-65-00bd7cd6e705>\u001b[0m in \u001b[0;36m<module>\u001b[0;34m\u001b[0m\n\u001b[0;32m----> 1\u001b[0;31m \u001b[0mtrain\u001b[0m \u001b[0;34m=\u001b[0m \u001b[0mextractData\u001b[0m\u001b[0;34m(\u001b[0m\u001b[0;36m1\u001b[0m\u001b[0;34m)\u001b[0m\u001b[0;34m\u001b[0m\u001b[0;34m\u001b[0m\u001b[0m\n\u001b[0m\u001b[1;32m      2\u001b[0m \u001b[0mtest\u001b[0m \u001b[0;34m=\u001b[0m \u001b[0mextractData\u001b[0m\u001b[0;34m(\u001b[0m\u001b[0;36m2\u001b[0m\u001b[0;34m)\u001b[0m\u001b[0;34m\u001b[0m\u001b[0;34m\u001b[0m\u001b[0m\n\u001b[1;32m      3\u001b[0m \u001b[0;34m\u001b[0m\u001b[0m\n",
      "\u001b[0;32m<ipython-input-10-f9653349e4cb>\u001b[0m in \u001b[0;36mextractData\u001b[0;34m(flag)\u001b[0m\n\u001b[1;32m     45\u001b[0m             \u001b[0mimage\u001b[0m \u001b[0;34m=\u001b[0m \u001b[0mcv2\u001b[0m\u001b[0;34m.\u001b[0m\u001b[0mimread\u001b[0m\u001b[0;34m(\u001b[0m\u001b[0mpath\u001b[0m \u001b[0;34m+\u001b[0m \u001b[0mfilename\u001b[0m\u001b[0;34m)\u001b[0m\u001b[0;34m\u001b[0m\u001b[0;34m\u001b[0m\u001b[0m\n\u001b[1;32m     46\u001b[0m \u001b[0;34m\u001b[0m\u001b[0m\n\u001b[0;32m---> 47\u001b[0;31m             \u001b[0mV\u001b[0m \u001b[0;34m=\u001b[0m \u001b[0mgenerateFeatureVector\u001b[0m\u001b[0;34m(\u001b[0m\u001b[0mimage\u001b[0m\u001b[0;34m)\u001b[0m\u001b[0;34m\u001b[0m\u001b[0;34m\u001b[0m\u001b[0m\n\u001b[0m\u001b[1;32m     48\u001b[0m \u001b[0;34m\u001b[0m\u001b[0m\n\u001b[1;32m     49\u001b[0m             \u001b[0mvecs\u001b[0m\u001b[0;34m.\u001b[0m\u001b[0mappend\u001b[0m\u001b[0;34m(\u001b[0m\u001b[0mV\u001b[0m\u001b[0;34m)\u001b[0m\u001b[0;34m\u001b[0m\u001b[0;34m\u001b[0m\u001b[0m\n",
      "\u001b[0;32m<ipython-input-10-f9653349e4cb>\u001b[0m in \u001b[0;36mgenerateFeatureVector\u001b[0;34m(image)\u001b[0m\n\u001b[1;32m     17\u001b[0m \u001b[0;32mdef\u001b[0m \u001b[0mgenerateFeatureVector\u001b[0m\u001b[0;34m(\u001b[0m\u001b[0mimage\u001b[0m\u001b[0;34m)\u001b[0m\u001b[0;34m:\u001b[0m\u001b[0;34m\u001b[0m\u001b[0;34m\u001b[0m\u001b[0m\n\u001b[1;32m     18\u001b[0m     \u001b[0mincir\u001b[0m\u001b[0;34m,\u001b[0m \u001b[0moutcir\u001b[0m \u001b[0;34m=\u001b[0m \u001b[0mIrisLocalization\u001b[0m\u001b[0;34m.\u001b[0m\u001b[0mLocalization\u001b[0m\u001b[0;34m(\u001b[0m\u001b[0mimage\u001b[0m\u001b[0;34m)\u001b[0m\u001b[0;34m\u001b[0m\u001b[0;34m\u001b[0m\u001b[0m\n\u001b[0;32m---> 19\u001b[0;31m     \u001b[0mimg\u001b[0m \u001b[0;34m=\u001b[0m \u001b[0mIrisNormalization\u001b[0m\u001b[0;34m.\u001b[0m\u001b[0mNormalization\u001b[0m\u001b[0;34m(\u001b[0m\u001b[0mimage\u001b[0m\u001b[0;34m,\u001b[0m \u001b[0mincir\u001b[0m\u001b[0;34m,\u001b[0m \u001b[0moutcir\u001b[0m\u001b[0;34m)\u001b[0m\u001b[0;34m\u001b[0m\u001b[0;34m\u001b[0m\u001b[0m\n\u001b[0m\u001b[1;32m     20\u001b[0m     \u001b[0mimg\u001b[0m \u001b[0;34m=\u001b[0m \u001b[0mIrisEnhancement\u001b[0m\u001b[0;34m.\u001b[0m\u001b[0mEnhancement\u001b[0m\u001b[0;34m(\u001b[0m\u001b[0mimg\u001b[0m\u001b[0;34m)\u001b[0m\u001b[0;34m\u001b[0m\u001b[0;34m\u001b[0m\u001b[0m\n\u001b[1;32m     21\u001b[0m     \u001b[0mV\u001b[0m \u001b[0;34m=\u001b[0m \u001b[0mIrisFeatureExtraction\u001b[0m\u001b[0;34m.\u001b[0m\u001b[0mFeatureExtraction\u001b[0m\u001b[0;34m(\u001b[0m\u001b[0mimg\u001b[0m\u001b[0;34m)\u001b[0m\u001b[0;34m\u001b[0m\u001b[0;34m\u001b[0m\u001b[0m\n",
      "\u001b[0;32m~/Documents/GitHub/Iris-Recognization-Project/IrisNormalization.py\u001b[0m in \u001b[0;36mNormalization\u001b[0;34m(image, incir, outcir)\u001b[0m\n\u001b[1;32m     49\u001b[0m     \u001b[0;32mfor\u001b[0m \u001b[0mY\u001b[0m \u001b[0;32min\u001b[0m \u001b[0mrange\u001b[0m\u001b[0;34m(\u001b[0m\u001b[0mM\u001b[0m\u001b[0;34m)\u001b[0m\u001b[0;34m:\u001b[0m\u001b[0;34m\u001b[0m\u001b[0;34m\u001b[0m\u001b[0m\n\u001b[1;32m     50\u001b[0m         \u001b[0;32mfor\u001b[0m \u001b[0mX\u001b[0m \u001b[0;32min\u001b[0m \u001b[0mrange\u001b[0m\u001b[0;34m(\u001b[0m\u001b[0mN\u001b[0m\u001b[0;34m)\u001b[0m\u001b[0;34m:\u001b[0m\u001b[0;34m\u001b[0m\u001b[0;34m\u001b[0m\u001b[0m\n\u001b[0;32m---> 51\u001b[0;31m             \u001b[0mx\u001b[0m\u001b[0;34m,\u001b[0m \u001b[0my\u001b[0m \u001b[0;34m=\u001b[0m \u001b[0mgetOriginCoord\u001b[0m\u001b[0;34m(\u001b[0m\u001b[0mX\u001b[0m\u001b[0;34m,\u001b[0m \u001b[0mY\u001b[0m\u001b[0;34m,\u001b[0m \u001b[0mincir\u001b[0m\u001b[0;34m,\u001b[0m \u001b[0moutcir\u001b[0m\u001b[0;34m)\u001b[0m\u001b[0;34m\u001b[0m\u001b[0;34m\u001b[0m\u001b[0m\n\u001b[0m\u001b[1;32m     52\u001b[0m             \u001b[0;32mif\u001b[0m\u001b[0;34m(\u001b[0m\u001b[0my\u001b[0m \u001b[0;34m>=\u001b[0m \u001b[0;36m280\u001b[0m\u001b[0;34m)\u001b[0m\u001b[0;34m:\u001b[0m\u001b[0;34m\u001b[0m\u001b[0;34m\u001b[0m\u001b[0m\n\u001b[1;32m     53\u001b[0m                 \u001b[0my\u001b[0m \u001b[0;34m=\u001b[0m \u001b[0;36m279\u001b[0m\u001b[0;34m\u001b[0m\u001b[0;34m\u001b[0m\u001b[0m\n",
      "\u001b[0;32m~/Documents/GitHub/Iris-Recognization-Project/IrisNormalization.py\u001b[0m in \u001b[0;36mgetOriginCoord\u001b[0;34m(X, Y, incir, outcir)\u001b[0m\n\u001b[1;32m     23\u001b[0m     \u001b[0;31m# in a clockwise order\u001b[0m\u001b[0;34m\u001b[0m\u001b[0;34m\u001b[0m\u001b[0;34m\u001b[0m\u001b[0m\n\u001b[1;32m     24\u001b[0m     \u001b[0mth\u001b[0m \u001b[0;34m=\u001b[0m \u001b[0;36m2\u001b[0m \u001b[0;34m*\u001b[0m \u001b[0mnp\u001b[0m\u001b[0;34m.\u001b[0m\u001b[0mpi\u001b[0m \u001b[0;34m*\u001b[0m \u001b[0mX\u001b[0m \u001b[0;34m/\u001b[0m \u001b[0mN\u001b[0m\u001b[0;34m\u001b[0m\u001b[0;34m\u001b[0m\u001b[0m\n\u001b[0;32m---> 25\u001b[0;31m     \u001b[0mx\u001b[0m \u001b[0;34m=\u001b[0m \u001b[0;34m(\u001b[0m\u001b[0mxi\u001b[0m \u001b[0;34m+\u001b[0m \u001b[0mri\u001b[0m \u001b[0;34m*\u001b[0m \u001b[0mnp\u001b[0m\u001b[0;34m.\u001b[0m\u001b[0mcos\u001b[0m\u001b[0;34m(\u001b[0m\u001b[0mth\u001b[0m\u001b[0;34m)\u001b[0m\u001b[0;34m)\u001b[0m \u001b[0;34m+\u001b[0m \u001b[0;34m(\u001b[0m\u001b[0mro\u001b[0m \u001b[0;34m*\u001b[0m \u001b[0mnp\u001b[0m\u001b[0;34m.\u001b[0m\u001b[0mcos\u001b[0m\u001b[0;34m(\u001b[0m\u001b[0mth\u001b[0m\u001b[0;34m)\u001b[0m \u001b[0;34m-\u001b[0m \u001b[0mri\u001b[0m \u001b[0;34m*\u001b[0m \u001b[0mnp\u001b[0m\u001b[0;34m.\u001b[0m\u001b[0mcos\u001b[0m\u001b[0;34m(\u001b[0m\u001b[0mth\u001b[0m\u001b[0;34m)\u001b[0m\u001b[0;34m)\u001b[0m \u001b[0;34m*\u001b[0m \u001b[0mY\u001b[0m \u001b[0;34m/\u001b[0m \u001b[0mM\u001b[0m\u001b[0;34m\u001b[0m\u001b[0;34m\u001b[0m\u001b[0m\n\u001b[0m\u001b[1;32m     26\u001b[0m     \u001b[0my\u001b[0m \u001b[0;34m=\u001b[0m \u001b[0;34m(\u001b[0m\u001b[0myi\u001b[0m \u001b[0;34m+\u001b[0m \u001b[0mri\u001b[0m \u001b[0;34m*\u001b[0m \u001b[0mnp\u001b[0m\u001b[0;34m.\u001b[0m\u001b[0msin\u001b[0m\u001b[0;34m(\u001b[0m\u001b[0mth\u001b[0m\u001b[0;34m)\u001b[0m\u001b[0;34m)\u001b[0m \u001b[0;34m+\u001b[0m \u001b[0;34m(\u001b[0m\u001b[0mro\u001b[0m \u001b[0;34m*\u001b[0m \u001b[0mnp\u001b[0m\u001b[0;34m.\u001b[0m\u001b[0msin\u001b[0m\u001b[0;34m(\u001b[0m\u001b[0mth\u001b[0m\u001b[0;34m)\u001b[0m \u001b[0;34m-\u001b[0m \u001b[0mri\u001b[0m \u001b[0;34m*\u001b[0m \u001b[0mnp\u001b[0m\u001b[0;34m.\u001b[0m\u001b[0msin\u001b[0m\u001b[0;34m(\u001b[0m\u001b[0mth\u001b[0m\u001b[0;34m)\u001b[0m\u001b[0;34m)\u001b[0m \u001b[0;34m*\u001b[0m \u001b[0mY\u001b[0m \u001b[0;34m/\u001b[0m \u001b[0mM\u001b[0m\u001b[0;34m\u001b[0m\u001b[0;34m\u001b[0m\u001b[0m\n\u001b[1;32m     27\u001b[0m \u001b[0;34m\u001b[0m\u001b[0m\n",
      "\u001b[0;31mKeyboardInterrupt\u001b[0m: "
     ]
    }
   ],
   "source": [
    "train = extractData(1)\n",
    "test = extractData(2)\n",
    "\n"
   ]
  },
  {
   "cell_type": "code",
   "execution_count": 68,
   "metadata": {},
   "outputs": [
    {
     "data": {
      "text/plain": [
       "(      L1   L2 Cosine\n",
       " 1     46   46      1\n",
       " 2      1    1      1\n",
       " 3     46   46      1\n",
       " 4      1    1      2\n",
       " 5    122  122    122\n",
       " ..   ...  ...    ...\n",
       " 428  166  166    321\n",
       " 429  322  322    322\n",
       " 430  324  324    322\n",
       " 431  126  324    322\n",
       " 432  322  322    322\n",
       " \n",
       " [432 rows x 3 columns],\n",
       "              L1          L2    Cosine\n",
       " 1    116.700616  189.589159  0.668992\n",
       " 2    107.144224  155.754167  0.535816\n",
       " 3    103.626279  170.589043  0.636155\n",
       " 4    108.320004  175.615871  0.562733\n",
       " 5    119.527606  207.847500  0.640828\n",
       " ..          ...         ...       ...\n",
       " 428  114.547680  203.239771  0.614475\n",
       " 429  106.186029  154.323170  0.460919\n",
       " 430  111.194317  182.121307  0.606845\n",
       " 431  121.009728  215.877681  0.672397\n",
       " 432  114.901416  188.308292  0.483380\n",
       " \n",
       " [432 rows x 3 columns])"
      ]
     },
     "execution_count": 68,
     "metadata": {},
     "output_type": "execute_result"
    }
   ],
   "source": [
    "IrisMatching(train, test)"
   ]
  },
  {
   "cell_type": "code",
   "execution_count": 61,
   "metadata": {},
   "outputs": [],
   "source": []
  }
 ],
 "metadata": {
  "kernelspec": {
   "display_name": "Python 3.8.8 ('base')",
   "language": "python",
   "name": "python3"
  },
  "language_info": {
   "codemirror_mode": {
    "name": "ipython",
    "version": 3
   },
   "file_extension": ".py",
   "mimetype": "text/x-python",
   "name": "python",
   "nbconvert_exporter": "python",
   "pygments_lexer": "ipython3",
   "version": "3.8.8"
  },
  "orig_nbformat": 4,
  "vscode": {
   "interpreter": {
    "hash": "2ce22ba0781ab55b36728216f86c609f0441bef53d678741fe689ffb1c251042"
   }
  }
 },
 "nbformat": 4,
 "nbformat_minor": 2
}
