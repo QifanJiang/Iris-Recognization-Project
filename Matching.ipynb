{
 "cells": [
  {
   "cell_type": "code",
   "execution_count": 158,
   "metadata": {},
   "outputs": [],
   "source": [
    "import numpy as np\n",
    "import pandas as pd\n",
    "import cv2\n",
    "from sklearn.discriminant_analysis import LinearDiscriminantAnalysis\n",
    "import importlib\n",
    "\n",
    "import IrisLocalization\n",
    "import IrisNormalization\n",
    "import IrisEnhancement \n",
    "import IrisFeatureExtraction\n",
    "\n",
    "importlib.reload(IrisLocalization)\n",
    "importlib.reload(IrisNormalization)\n",
    "importlib.reload(IrisEnhancement)\n",
    "importlib.reload(IrisFeatureExtraction)\n",
    "\n",
    "def generateFeatureVector(image):\n",
    "    incir, outcir = Localization(image)\n",
    "    img = Normalization(image, incir, outcir)\n",
    "    img = Enhancement(img)\n",
    "    V = FeatureExtraction(img)\n",
    "\n",
    "    return V\n",
    "\n",
    "\n",
    "def extractData(flag):\n",
    "    '''\n",
    "    flag: 1 if you want to extract train data, 2 if test data\n",
    "    '''\n",
    "    vecs = [] # list for stroring feature vectors\n",
    "    source = 'CASIA Iris Image Database (version 1.0)/'\n",
    "\n",
    "    n_eye = 108\n",
    "\n",
    "    if flag == 1: # train data\n",
    "        n = 3\n",
    "    elif flag == 2: # test data\n",
    "        n = 4\n",
    "\n",
    "    for i in range(1, 2+1): # we need to change 2 -> n_eye!\n",
    "        for j in range(1, n+1):\n",
    "            path = source + '%03d' % (i,) + '/' + str(flag) + '/'\n",
    "            filename = '%03d' % (i,) + '_' + str(flag) + '_' + str(j) + '.bmp'\n",
    "            \n",
    "            image = cv2.imread(path + filename)\n",
    "\n",
    "            V = generateFeatureVector(image)\n",
    "\n",
    "            vecs.append(V)\n",
    "    \n",
    "    vecs = np.array(vecs)\n",
    "\n",
    "    return vecs\n",
    "\n"
   ]
  },
  {
   "cell_type": "code",
   "execution_count": 159,
   "metadata": {},
   "outputs": [],
   "source": [
    "# Search closest iris among train dataset\n",
    "# return two list, one of which stores closest iris and another stores their similarity measures\n",
    "def IrisMatching(train, test):\n",
    "    '''\n",
    "    train: a list of feature vectors for train data\n",
    "    test: a list of feature vectors for test data  \n",
    "    '''\n",
    "    train_X = train\n",
    "    train_y = np.repeat(range(1,109),3)\n",
    "    test_X = test\n",
    "    test_y = np.repeat(range(1,109),4)\n",
    "\n",
    "    # Implement LDA to improve omputational efficiency and classification accuracy \n",
    "    clf = LinearDiscriminantAnalysis()\n",
    "    clf.fit(train_X, train_y)\n",
    "\n",
    "    f = clf.transform(train_X)\n",
    "    f_test = clf.transform(test_X)\n",
    "\n",
    "    # Calculate Similarity Measures \n",
    "    for i in range(len(f_test)):\n",
    "        \n",
    "        df_min = pd.DataFrame(columns=['L1', 'L2', 'Cosine'])\n",
    "        df_minmeasure = pd.DataFrame(columns=['L1', 'L2', 'Cosine'])\n",
    "\n",
    "        for j in range(len(f)):\n",
    "            d1 = sum(abs(f_test[i:i+1] - f[j:j+1]))\n",
    "            d2 = sum((f_test[i:i+1] - f[j:j+1])**2)\n",
    "            d3 = 1 - np.dot(f_test[i:i+1], f[j:j+1]) / np.sqrt(sum(f_test**2) * sum(f[j:j+1]**2))\n",
    "\n",
    "            # Three Similarity Measures\n",
    "            if mind1 > d1:\n",
    "                mind1 = d1\n",
    "                closest_d1 = j\n",
    "\n",
    "            if mind2 > d2:\n",
    "                mind2 = d2\n",
    "                closest_d2 = j\n",
    "            if mind3 > d3:\n",
    "                mind3 = d3\n",
    "                closest_d3 = j\n",
    "            \n",
    "        # Store outputs\n",
    "        df_min.loc[i] = [closest_d1, closest_d2, closest_d3]\n",
    "        df_minmeasure.loc[i] = [mind1, mind2, mind3]\n",
    "    \n",
    "    return df_min, df_minmeasure\n",
    "\n",
    "        \n"
   ]
  },
  {
   "cell_type": "code",
   "execution_count": 160,
   "metadata": {},
   "outputs": [
    {
     "ename": "IndexError",
     "evalue": "index 280 is out of bounds for axis 0 with size 280",
     "output_type": "error",
     "traceback": [
      "\u001b[0;31m---------------------------------------------------------------------------\u001b[0m",
      "\u001b[0;31mIndexError\u001b[0m                                Traceback (most recent call last)",
      "\u001b[0;32m<ipython-input-160-983c0cbc539d>\u001b[0m in \u001b[0;36m<module>\u001b[0;34m\u001b[0m\n\u001b[0;32m----> 1\u001b[0;31m \u001b[0mtrain\u001b[0m \u001b[0;34m=\u001b[0m \u001b[0mextractData\u001b[0m\u001b[0;34m(\u001b[0m\u001b[0;36m1\u001b[0m\u001b[0;34m)\u001b[0m\u001b[0;34m\u001b[0m\u001b[0;34m\u001b[0m\u001b[0m\n\u001b[0m\u001b[1;32m      2\u001b[0m \u001b[0mtest\u001b[0m \u001b[0;34m=\u001b[0m \u001b[0mextractData\u001b[0m\u001b[0;34m(\u001b[0m\u001b[0;36m2\u001b[0m\u001b[0;34m)\u001b[0m\u001b[0;34m\u001b[0m\u001b[0;34m\u001b[0m\u001b[0m\n\u001b[1;32m      3\u001b[0m \u001b[0;34m\u001b[0m\u001b[0m\n\u001b[1;32m      4\u001b[0m \u001b[0mIrisMatching\u001b[0m\u001b[0;34m(\u001b[0m\u001b[0mtrain\u001b[0m\u001b[0;34m,\u001b[0m \u001b[0mtest\u001b[0m\u001b[0;34m)\u001b[0m\u001b[0;34m\u001b[0m\u001b[0;34m\u001b[0m\u001b[0m\n",
      "\u001b[0;32m<ipython-input-158-d9fb09a42735>\u001b[0m in \u001b[0;36mextractData\u001b[0;34m(flag)\u001b[0m\n\u001b[1;32m     45\u001b[0m             \u001b[0mimage\u001b[0m \u001b[0;34m=\u001b[0m \u001b[0mcv2\u001b[0m\u001b[0;34m.\u001b[0m\u001b[0mimread\u001b[0m\u001b[0;34m(\u001b[0m\u001b[0mpath\u001b[0m \u001b[0;34m+\u001b[0m \u001b[0mfilename\u001b[0m\u001b[0;34m)\u001b[0m\u001b[0;34m\u001b[0m\u001b[0;34m\u001b[0m\u001b[0m\n\u001b[1;32m     46\u001b[0m \u001b[0;34m\u001b[0m\u001b[0m\n\u001b[0;32m---> 47\u001b[0;31m             \u001b[0mV\u001b[0m \u001b[0;34m=\u001b[0m \u001b[0mgenerateFeatureVector\u001b[0m\u001b[0;34m(\u001b[0m\u001b[0mimage\u001b[0m\u001b[0;34m)\u001b[0m\u001b[0;34m\u001b[0m\u001b[0;34m\u001b[0m\u001b[0m\n\u001b[0m\u001b[1;32m     48\u001b[0m \u001b[0;34m\u001b[0m\u001b[0m\n\u001b[1;32m     49\u001b[0m             \u001b[0mvecs\u001b[0m\u001b[0;34m.\u001b[0m\u001b[0mappend\u001b[0m\u001b[0;34m(\u001b[0m\u001b[0mV\u001b[0m\u001b[0;34m)\u001b[0m\u001b[0;34m\u001b[0m\u001b[0;34m\u001b[0m\u001b[0m\n",
      "\u001b[0;32m<ipython-input-158-d9fb09a42735>\u001b[0m in \u001b[0;36mgenerateFeatureVector\u001b[0;34m(image)\u001b[0m\n\u001b[1;32m     17\u001b[0m \u001b[0;32mdef\u001b[0m \u001b[0mgenerateFeatureVector\u001b[0m\u001b[0;34m(\u001b[0m\u001b[0mimage\u001b[0m\u001b[0;34m)\u001b[0m\u001b[0;34m:\u001b[0m\u001b[0;34m\u001b[0m\u001b[0;34m\u001b[0m\u001b[0m\n\u001b[1;32m     18\u001b[0m     \u001b[0mincir\u001b[0m\u001b[0;34m,\u001b[0m \u001b[0moutcir\u001b[0m \u001b[0;34m=\u001b[0m \u001b[0mLocalization\u001b[0m\u001b[0;34m(\u001b[0m\u001b[0mimage\u001b[0m\u001b[0;34m)\u001b[0m\u001b[0;34m\u001b[0m\u001b[0;34m\u001b[0m\u001b[0m\n\u001b[0;32m---> 19\u001b[0;31m     \u001b[0mimg\u001b[0m \u001b[0;34m=\u001b[0m \u001b[0mNormalization\u001b[0m\u001b[0;34m(\u001b[0m\u001b[0mimage\u001b[0m\u001b[0;34m,\u001b[0m \u001b[0mincir\u001b[0m\u001b[0;34m,\u001b[0m \u001b[0moutcir\u001b[0m\u001b[0;34m)\u001b[0m\u001b[0;34m\u001b[0m\u001b[0;34m\u001b[0m\u001b[0m\n\u001b[0m\u001b[1;32m     20\u001b[0m     \u001b[0mimg\u001b[0m \u001b[0;34m=\u001b[0m \u001b[0mEnhancement\u001b[0m\u001b[0;34m(\u001b[0m\u001b[0mimg\u001b[0m\u001b[0;34m)\u001b[0m\u001b[0;34m\u001b[0m\u001b[0;34m\u001b[0m\u001b[0m\n\u001b[1;32m     21\u001b[0m     \u001b[0mV\u001b[0m \u001b[0;34m=\u001b[0m \u001b[0mFeatureExtraction\u001b[0m\u001b[0;34m(\u001b[0m\u001b[0mimg\u001b[0m\u001b[0;34m)\u001b[0m\u001b[0;34m\u001b[0m\u001b[0;34m\u001b[0m\u001b[0m\n",
      "\u001b[0;32m~/Documents/GitHub/Iris-Recognization-Project/IrisNormalization.py\u001b[0m in \u001b[0;36mNormalization\u001b[0;34m(image, incir, outcir)\u001b[0m\n\u001b[1;32m     52\u001b[0m             \u001b[0;32mif\u001b[0m\u001b[0;34m(\u001b[0m\u001b[0my\u001b[0m \u001b[0;34m>=\u001b[0m \u001b[0;36m280\u001b[0m\u001b[0;34m)\u001b[0m\u001b[0;34m:\u001b[0m\u001b[0;34m\u001b[0m\u001b[0;34m\u001b[0m\u001b[0m\n\u001b[1;32m     53\u001b[0m                 \u001b[0my\u001b[0m \u001b[0;34m=\u001b[0m \u001b[0;36m279\u001b[0m\u001b[0;34m\u001b[0m\u001b[0;34m\u001b[0m\u001b[0m\n\u001b[0;32m---> 54\u001b[0;31m                 \u001b[0mprint\u001b[0m\u001b[0;34m(\u001b[0m\u001b[0;34m'y'\u001b[0m\u001b[0;34m)\u001b[0m\u001b[0;34m\u001b[0m\u001b[0;34m\u001b[0m\u001b[0m\n\u001b[0m\u001b[1;32m     55\u001b[0m             \u001b[0;32mif\u001b[0m\u001b[0;34m(\u001b[0m\u001b[0mx\u001b[0m \u001b[0;34m>=\u001b[0m \u001b[0;36m320\u001b[0m\u001b[0;34m)\u001b[0m\u001b[0;34m:\u001b[0m\u001b[0;34m\u001b[0m\u001b[0;34m\u001b[0m\u001b[0m\n\u001b[1;32m     56\u001b[0m                 \u001b[0mx\u001b[0m \u001b[0;34m=\u001b[0m \u001b[0;36m319\u001b[0m\u001b[0;34m\u001b[0m\u001b[0;34m\u001b[0m\u001b[0m\n",
      "\u001b[0;31mIndexError\u001b[0m: index 280 is out of bounds for axis 0 with size 280"
     ]
    }
   ],
   "source": [
    "train = extractData(1)\n",
    "test = extractData(2)\n",
    "\n",
    "IrisMatching(train, test)\n"
   ]
  },
  {
   "cell_type": "code",
   "execution_count": null,
   "metadata": {},
   "outputs": [],
   "source": []
  }
 ],
 "metadata": {
  "kernelspec": {
   "display_name": "Python 3.8.8 ('base')",
   "language": "python",
   "name": "python3"
  },
  "language_info": {
   "codemirror_mode": {
    "name": "ipython",
    "version": 3
   },
   "file_extension": ".py",
   "mimetype": "text/x-python",
   "name": "python",
   "nbconvert_exporter": "python",
   "pygments_lexer": "ipython3",
   "version": "3.8.8"
  },
  "orig_nbformat": 4,
  "vscode": {
   "interpreter": {
    "hash": "2ce22ba0781ab55b36728216f86c609f0441bef53d678741fe689ffb1c251042"
   }
  }
 },
 "nbformat": 4,
 "nbformat_minor": 2
}
