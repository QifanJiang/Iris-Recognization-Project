{
 "cells": [
  {
   "cell_type": "code",
   "execution_count": 34,
   "metadata": {},
   "outputs": [
    {
     "data": {
      "text/plain": [
       "<module 'IrisEnhancement' from 'c:\\\\Users\\\\Javier Jiang\\\\Desktop\\\\Courses\\\\STAT5293 Applied Machine Learning for Image Analysis\\\\Iris-Recognization-Project\\\\IrisEnhancement.py'>"
      ]
     },
     "execution_count": 34,
     "metadata": {},
     "output_type": "execute_result"
    }
   ],
   "source": [
    "import numpy as np\n",
    "import os\n",
    "import cv2\n",
    "import matplotlib.pyplot as plt\n",
    "import math\n",
    "import importlib\n",
    "\n",
    "import IrisLocalization\n",
    "import IrisNormalization\n",
    "import IrisEnhancement\n",
    "\n",
    "importlib.reload(IrisLocalization)\n",
    "importlib.reload(IrisNormalization)\n",
    "importlib.reload(IrisEnhancement)"
   ]
  },
  {
   "cell_type": "markdown",
   "metadata": {},
   "source": [
    "Localization(image)  \n",
    "&emsp;return (x_in,y_in,r_in), (x_out,y_out,r_out)  \n",
    "Normalization(image, incir, outcir)  \n",
    "&emsp;return unwrapImage  \n",
    "Enhancement(image)  \n",
    "&emsp;return image_normalized"
   ]
  },
  {
   "cell_type": "code",
   "execution_count": 35,
   "metadata": {},
   "outputs": [
    {
     "name": "stderr",
     "output_type": "stream",
     "text": [
      "Clipping input data to the valid range for imshow with RGB data ([0..1] for floats or [0..255] for integers).\n",
      "Clipping input data to the valid range for imshow with RGB data ([0..1] for floats or [0..255] for integers).\n",
      "Clipping input data to the valid range for imshow with RGB data ([0..1] for floats or [0..255] for integers).\n",
      "Clipping input data to the valid range for imshow with RGB data ([0..1] for floats or [0..255] for integers).\n",
      "Clipping input data to the valid range for imshow with RGB data ([0..1] for floats or [0..255] for integers).\n"
     ]
    },
    {
     "ename": "IndexError",
     "evalue": "index 280 is out of bounds for axis 0 with size 280",
     "output_type": "error",
     "traceback": [
      "\u001b[1;31m---------------------------------------------------------------------------\u001b[0m",
      "\u001b[1;31mIndexError\u001b[0m                                Traceback (most recent call last)",
      "\u001b[1;32mc:\\Users\\Javier Jiang\\Desktop\\Courses\\STAT5293 Applied Machine Learning for Image Analysis\\Iris-Recognization-Project\\IrisRecognition_dev.ipynb Cell 3\u001b[0m in \u001b[0;36m<cell line: 1>\u001b[1;34m()\u001b[0m\n\u001b[0;32m      <a href='vscode-notebook-cell:/c%3A/Users/Javier%20Jiang/Desktop/Courses/STAT5293%20Applied%20Machine%20Learning%20for%20Image%20Analysis/Iris-Recognization-Project/IrisRecognition_dev.ipynb#W1sZmlsZQ%3D%3D?line=5'>6</a>\u001b[0m image \u001b[39m=\u001b[39m cv2\u001b[39m.\u001b[39mimread(image_file)\n\u001b[0;32m      <a href='vscode-notebook-cell:/c%3A/Users/Javier%20Jiang/Desktop/Courses/STAT5293%20Applied%20Machine%20Learning%20for%20Image%20Analysis/Iris-Recognization-Project/IrisRecognition_dev.ipynb#W1sZmlsZQ%3D%3D?line=6'>7</a>\u001b[0m incir, outcir \u001b[39m=\u001b[39m IrisLocalization\u001b[39m.\u001b[39mLocalization(image)\n\u001b[1;32m----> <a href='vscode-notebook-cell:/c%3A/Users/Javier%20Jiang/Desktop/Courses/STAT5293%20Applied%20Machine%20Learning%20for%20Image%20Analysis/Iris-Recognization-Project/IrisRecognition_dev.ipynb#W1sZmlsZQ%3D%3D?line=7'>8</a>\u001b[0m image_normalized \u001b[39m=\u001b[39m IrisNormalization\u001b[39m.\u001b[39;49mNormalization(image, incir, outcir)\n\u001b[0;32m      <a href='vscode-notebook-cell:/c%3A/Users/Javier%20Jiang/Desktop/Courses/STAT5293%20Applied%20Machine%20Learning%20for%20Image%20Analysis/Iris-Recognization-Project/IrisRecognition_dev.ipynb#W1sZmlsZQ%3D%3D?line=8'>9</a>\u001b[0m plt\u001b[39m.\u001b[39mimshow(image_normalized)\n\u001b[0;32m     <a href='vscode-notebook-cell:/c%3A/Users/Javier%20Jiang/Desktop/Courses/STAT5293%20Applied%20Machine%20Learning%20for%20Image%20Analysis/Iris-Recognization-Project/IrisRecognition_dev.ipynb#W1sZmlsZQ%3D%3D?line=9'>10</a>\u001b[0m plt\u001b[39m.\u001b[39msavefig(\u001b[39m\"\u001b[39m\u001b[39m./Normalized figures/\u001b[39m\u001b[39m\"\u001b[39m\u001b[39m+\u001b[39mcount\u001b[39m+\u001b[39m\u001b[39m'\u001b[39m\u001b[39m_1_\u001b[39m\u001b[39m'\u001b[39m\u001b[39m+\u001b[39m\u001b[39mstr\u001b[39m(j)\u001b[39m+\u001b[39m\u001b[39m\"\u001b[39m\u001b[39m.png\u001b[39m\u001b[39m\"\u001b[39m)\n",
      "File \u001b[1;32mc:\\Users\\Javier Jiang\\Desktop\\Courses\\STAT5293 Applied Machine Learning for Image Analysis\\Iris-Recognization-Project\\IrisNormalization.py:52\u001b[0m, in \u001b[0;36mNormalization\u001b[1;34m(image, incir, outcir)\u001b[0m\n\u001b[0;32m     50\u001b[0m     \u001b[39mfor\u001b[39;00m X \u001b[39min\u001b[39;00m \u001b[39mrange\u001b[39m(N):\n\u001b[0;32m     51\u001b[0m         x, y \u001b[39m=\u001b[39m getOriginCoord(X, Y, incir, outcir)\n\u001b[1;32m---> 52\u001b[0m         unwrapImage[Y][X] \u001b[39m=\u001b[39m image[y][x]\n\u001b[0;32m     54\u001b[0m \u001b[39mreturn\u001b[39;00m unwrapImage\n",
      "\u001b[1;31mIndexError\u001b[0m: index 280 is out of bounds for axis 0 with size 280"
     ]
    },
    {
     "data": {
      "image/png": "[encoded data removed]",
      "text/plain": [
       "<Figure size 640x480 with 1 Axes>"
      ]
     },
     "metadata": {},
     "output_type": "display_data"
    }
   ],
   "source": [
    "for i in range(1,10):\n",
    "    count = str(i).rjust(3,\"0\")\n",
    "    path = 'CASIA Iris Image Database (version 1.0)/'+count+'/1'\n",
    "    for j in range(1,4):\n",
    "        image_file = os.path.join(path, count+'_1_'+str(j)+'.bmp')\n",
    "        image = cv2.imread(image_file)\n",
    "        incir, outcir = IrisLocalization.Localization(image)\n",
    "        image_normalized = IrisNormalization.Normalization(image, incir, outcir)\n",
    "        plt.imshow(image_normalized)\n",
    "        plt.savefig(\"./Normalized figures/\"+count+'_1_'+str(j)+\".png\")"
   ]
  }
 ],
 "metadata": {
  "kernelspec": {
   "display_name": "Python 3.9.12 ('base')",
   "language": "python",
   "name": "python3"
  },
  "language_info": {
   "codemirror_mode": {
    "name": "ipython",
    "version": 3
   },
   "file_extension": ".py",
   "mimetype": "text/x-python",
   "name": "python",
   "nbconvert_exporter": "python",
   "pygments_lexer": "ipython3",
   "version": "3.9.12"
  },
  "orig_nbformat": 4,
  "vscode": {
   "interpreter": {
    "hash": "e4cce46d6be9934fbd27f9ca0432556941ea5bdf741d4f4d64c6cd7f8dfa8fba"
   }
  }
 },
 "nbformat": 4,
 "nbformat_minor": 2
}
