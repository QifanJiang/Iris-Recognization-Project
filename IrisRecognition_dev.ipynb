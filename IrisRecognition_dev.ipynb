{
 "cells": [
  {
   "cell_type": "code",
   "execution_count": 20,
   "metadata": {},
   "outputs": [],
   "source": [
    "import numpy as np\n",
    "import os\n",
    "import cv2\n",
    "import matplotlib.pyplot as plt\n",
    "import math\n",
    "import importlib\n",
    "\n",
    "import IrisLocalization\n",
    "import IrisNormalization\n",
    "import IrisEnhancement\n",
    "import IrisFeatureExtraction\n",
    "import IrisMatching\n",
    "\n",
    "importlib.reload(IrisLocalization)\n",
    "importlib.reload(IrisNormalization)\n",
    "importlib.reload(IrisEnhancement)\n",
    "importlib.reload(IrisFeatureExtraction)\n",
    "importlib.reload(IrisMatching)\n",
    "\n",
    "def generateFeatureVector(image):\n",
    "    incir, outcir = IrisLocalization.Localization(image)\n",
    "    img = IrisNormalization.Normalization(image, incir, outcir)\n",
    "    img = IrisEnhancement.Enhancement(img)\n",
    "    V = IrisFeatureExtraction.FeatureExtraction(img)\n",
    "\n",
    "    return V\n",
    "\n",
    "def extractData(flag):\n",
    "    '''\n",
    "    flag: 1 if you want to extract train data, 2 if test data\n",
    "    '''\n",
    "    vecs = [] # list for stroring feature vectors\n",
    "    source = 'CASIA Iris Image Database (version 1.0)/'\n",
    "\n",
    "    n_eye = 108\n",
    "\n",
    "    if flag == 1: # train data\n",
    "        n = 3\n",
    "    elif flag == 2: # test data\n",
    "        n = 4\n",
    "\n",
    "    for i in range(1, n_eye+1): # we need to change 2 -> n_eye!\n",
    "        for j in range(1, n+1):\n",
    "            path = source + '%03d' % (i,) + '/' + str(flag) + '/'\n",
    "            filename = '%03d' % (i,) + '_' + str(flag) + '_' + str(j) + '.bmp'\n",
    "            \n",
    "            image = cv2.imread(path + filename)\n",
    "\n",
    "            V = generateFeatureVector(image)\n",
    "\n",
    "            vecs.append(V)\n",
    "    \n",
    "    vecs = np.array(vecs)\n",
    "\n",
    "    return vecs\n"
   ]
  },
  {
   "cell_type": "code",
   "execution_count": 16,
   "metadata": {},
   "outputs": [
    {
     "name": "stdout",
     "output_type": "stream",
     "text": [
      "(64, 512)\n",
      "(64, 512)\n",
      "(64, 512)\n",
      "(64, 512)\n",
      "(64, 512)\n",
      "(64, 512)\n",
      "(64, 512)\n",
      "(64, 512)\n",
      "(64, 512)\n"
     ]
    }
   ],
   "source": [
    "for i in range(1,4):\n",
    "    count = str(i).rjust(3,\"0\")\n",
    "    path = 'CASIA Iris Image Database (version 1.0)/'+count+'/1'\n",
    "    for j in range(1,4):\n",
    "        image_file = os.path.join(path, count+'_1_'+str(j)+'.bmp')\n",
    "        image = cv2.imread(image_file)\n",
    "        incir, outcir = IrisLocalization.Localization(image)\n",
    "        image_normalized = IrisNormalization.Normalization(image, incir, outcir)\n",
    "        image_enhanced = IrisEnhancement.Enhancement(image_normalized)\n",
    "        feature_vector = IrisFeatureExtraction.FeatureExtraction(image_enhanced)\n",
    "        print(feature_vector)"
   ]
  },
  {
   "cell_type": "code",
   "execution_count": null,
   "metadata": {},
   "outputs": [],
   "source": []
  },
  {
   "cell_type": "code",
   "execution_count": null,
   "metadata": {},
   "outputs": [],
   "source": []
  }
 ],
 "metadata": {
  "kernelspec": {
   "display_name": "Python 3.8.8 ('base')",
   "language": "python",
   "name": "python3"
  },
  "language_info": {
   "codemirror_mode": {
    "name": "ipython",
    "version": 3
   },
   "file_extension": ".py",
   "mimetype": "text/x-python",
   "name": "python",
   "nbconvert_exporter": "python",
   "pygments_lexer": "ipython3",
   "version": "3.8.8"
  },
  "orig_nbformat": 4,
  "vscode": {
   "interpreter": {
    "hash": "2ce22ba0781ab55b36728216f86c609f0441bef53d678741fe689ffb1c251042"
   }
  }
 },
 "nbformat": 4,
 "nbformat_minor": 2
}
